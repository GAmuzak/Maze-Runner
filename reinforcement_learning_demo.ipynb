{
  "nbformat": 4,
  "nbformat_minor": 0,
  "metadata": {
    "colab": {
      "name": "reinforcement learning demo.ipynb",
      "provenance": [],
      "authorship_tag": "ABX9TyMbhEUMJkC+18YJWNrNWn8T",
      "include_colab_link": true
    },
    "kernelspec": {
      "name": "python3",
      "display_name": "Python 3"
    }
  },
  "cells": [
    {
      "cell_type": "markdown",
      "metadata": {
        "id": "view-in-github",
        "colab_type": "text"
      },
      "source": [
        "<a href=\"https://colab.research.google.com/github/GAmuzak/RL_Demo/blob/master/reinforcement_learning_demo.ipynb\" target=\"_parent\"><img src=\"https://colab.research.google.com/assets/colab-badge.svg\" alt=\"Open In Colab\"/></a>"
      ]
    },
    {
      "cell_type": "markdown",
      "metadata": {
        "id": "l5A6eHikl396",
        "colab_type": "text"
      },
      "source": [
        "The idea is to get code to produce the best possible steps to get out of this room. \n",
        "![image.png](data:image/png;base64,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)\n",
        "\n",
        "We can be dropped into any room between 0-4, and we must head out to room 5"
      ]
    },
    {
      "cell_type": "code",
      "metadata": {
        "id": "CmoDiBJsmaNL",
        "colab_type": "code",
        "colab": {}
      },
      "source": [
        "import numpy as np"
      ],
      "execution_count": 1,
      "outputs": []
    },
    {
      "cell_type": "code",
      "metadata": {
        "id": "gSwsoS9ammNa",
        "colab_type": "code",
        "colab": {}
      },
      "source": [
        "R=np.matrix([[-1,-1,-1,-1, 0, -1],\n",
        "             [-1,-1,-1, 0,-1,100],\n",
        "             [-1,-1,-1, 0,-1, -1],\n",
        "             [-1, 0, 0,-1, 0, -1],\n",
        "             [-1, 0, 0,-1,-1,100],\n",
        "             [-1, 0,-1,-1, 0,100]])\n",
        "#so the idea here is you go from x to y, x and y being the row and the coloumn.\n",
        "#-1 means it's not possible, 0 means there is no reward, and 100 means there is a full reward."
      ],
      "execution_count": 2,
      "outputs": []
    },
    {
      "cell_type": "code",
      "metadata": {
        "id": "VtFSIoI_oHYc",
        "colab_type": "code",
        "colab": {
          "base_uri": "https://localhost:8080/",
          "height": 126
        },
        "outputId": "2ba3cff7-0f90-4829-8365-f433621373ab"
      },
      "source": [
        "#our q matrix initialisation\n",
        "Q=np.matrix(np.zeros([6,6]))\n",
        "Q"
      ],
      "execution_count": 3,
      "outputs": [
        {
          "output_type": "execute_result",
          "data": {
            "text/plain": [
              "matrix([[0., 0., 0., 0., 0., 0.],\n",
              "        [0., 0., 0., 0., 0., 0.],\n",
              "        [0., 0., 0., 0., 0., 0.],\n",
              "        [0., 0., 0., 0., 0., 0.],\n",
              "        [0., 0., 0., 0., 0., 0.],\n",
              "        [0., 0., 0., 0., 0., 0.]])"
            ]
          },
          "metadata": {
            "tags": []
          },
          "execution_count": 3
        }
      ]
    },
    {
      "cell_type": "code",
      "metadata": {
        "id": "_6R_gGVNoZQL",
        "colab_type": "code",
        "colab": {}
      },
      "source": [
        "#our discount factor. The bigger it is, the more it cares about rewards in the distant future\n",
        "gamma=0.8"
      ],
      "execution_count": 4,
      "outputs": []
    },
    {
      "cell_type": "code",
      "metadata": {
        "id": "3XmFT_NMob-a",
        "colab_type": "code",
        "colab": {}
      },
      "source": [
        "#returns the list of available rooms to travel to\n",
        "def available_actions(state):\n",
        "  current_state_row=R[state]\n",
        "  avail_action=np.where(current_state_row>=0)[1]\n",
        "  return avail_action"
      ],
      "execution_count": 5,
      "outputs": []
    },
    {
      "cell_type": "code",
      "metadata": {
        "id": "-powSOvepjqo",
        "colab_type": "code",
        "colab": {}
      },
      "source": [
        "#returns a next room at random\n",
        "def sample_next_action(current_state):\n",
        "  next_action=np.random.choice(available_actions(current_state))\n",
        "  return next_action"
      ],
      "execution_count": 6,
      "outputs": []
    },
    {
      "cell_type": "code",
      "metadata": {
        "id": "XPwmEBsXqL30",
        "colab_type": "code",
        "colab": {}
      },
      "source": [
        "def update(current_state, gamma):\n",
        "  action=sample_next_action(current_state)\n",
        "  max_index=np.where(Q[action]==np.max(Q[action]))[1]\n",
        "\n",
        "  if max_index.shape[0]>1:\n",
        "    max_index=np.random.choice(max_index, size=1)\n",
        "  max_value=Q[action,max_index]\n",
        "  \n",
        "  #Q learning formula\n",
        "  Q[current_state, action]= R[current_state, action]+gamma*max_value"
      ],
      "execution_count": 7,
      "outputs": []
    },
    {
      "cell_type": "code",
      "metadata": {
        "id": "USRVfwOCs0D9",
        "colab_type": "code",
        "colab": {
          "base_uri": "https://localhost:8080/",
          "height": 35
        },
        "outputId": "4ec0b772-06bd-4a48-faa4-ed82d0c4fc45"
      },
      "source": [
        "from tqdm import tqdm\n",
        "for i in tqdm(range(10000)):\n",
        "  current_state=np.random.randint(0,int(Q.shape[0]))\n",
        "  update(current_state, gamma)"
      ],
      "execution_count": 8,
      "outputs": [
        {
          "output_type": "stream",
          "text": [
            "100%|██████████| 10000/10000 [00:00<00:00, 10076.53it/s]\n"
          ],
          "name": "stderr"
        }
      ]
    },
    {
      "cell_type": "code",
      "metadata": {
        "id": "xmcCU-AztzSu",
        "colab_type": "code",
        "colab": {
          "base_uri": "https://localhost:8080/",
          "height": 126
        },
        "outputId": "e9bf128c-edf7-4507-da1b-a261e81d18dc"
      },
      "source": [
        "#normalise results for visualisation\n",
        "print(Q/np.max(Q) * 100)"
      ],
      "execution_count": 9,
      "outputs": [
        {
          "output_type": "stream",
          "text": [
            "[[  0.    0.    0.    0.   80.    0. ]\n",
            " [  0.    0.    0.   64.    0.  100. ]\n",
            " [  0.    0.    0.   64.    0.    0. ]\n",
            " [  0.   80.   51.2   0.   80.    0. ]\n",
            " [  0.   80.   51.2   0.    0.  100. ]\n",
            " [  0.   80.    0.    0.   80.  100. ]]\n"
          ],
          "name": "stdout"
        }
      ]
    },
    {
      "cell_type": "code",
      "metadata": {
        "id": "a_Askdvay54D",
        "colab_type": "code",
        "colab": {}
      },
      "source": [
        "#test function\n",
        "def test(current_state):\n",
        "  while current_state!=5:\n",
        "    next_step_index=np.where(Q[current_state]==np.max(Q[current_state]))[1]\n",
        "\n",
        "    if next_step_index.shape[0]>1:\n",
        "      next_step_index=int(np.random.choice(next_step_index, size=1))\n",
        "    else:\n",
        "      next_step_index=int(next_step_index)\n",
        "\n",
        "    steps.append(next_step_index)\n",
        "    current_state=next_step_index"
      ],
      "execution_count": 10,
      "outputs": []
    },
    {
      "cell_type": "code",
      "metadata": {
        "id": "Brns8mr9udOY",
        "colab_type": "code",
        "colab": {}
      },
      "source": [
        "#testing model\n",
        "\n",
        "current_state=2 #this is our initial room, change for different results\n",
        "steps=[current_state] #we will append the rooms out algo enters here\n",
        "test(current_state)"
      ],
      "execution_count": 11,
      "outputs": []
    },
    {
      "cell_type": "code",
      "metadata": {
        "id": "gDRBDpMIvht9",
        "colab_type": "code",
        "colab": {
          "base_uri": "https://localhost:8080/",
          "height": 35
        },
        "outputId": "e73925b4-1e8b-45cc-a40e-fa99a25696f4"
      },
      "source": [
        "print(\"Selected path:\", steps)"
      ],
      "execution_count": 12,
      "outputs": [
        {
          "output_type": "stream",
          "text": [
            "Selected path: [2, 3, 1, 5]\n"
          ],
          "name": "stdout"
        }
      ]
    }
  ]
}